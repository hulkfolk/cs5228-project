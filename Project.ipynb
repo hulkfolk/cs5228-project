{
 "cells": [
  {
   "cell_type": "code",
   "execution_count": 1,
   "metadata": {},
   "outputs": [],
   "source": [
    "import os\n",
    "import re\n",
    "from typing import Tuple\n",
    "from datetime import datetime\n",
    "\n",
    "import pandas as pd\n",
    "import preprocessing"
   ]
  },
  {
   "cell_type": "markdown",
   "metadata": {},
   "source": [
    "### Dataset\n",
    "<span>1. Check attributes</span></br>\n",
    "<span>2. Check data null values</span>"
   ]
  },
  {
   "cell_type": "code",
   "execution_count": 2,
   "metadata": {},
   "outputs": [
    {
     "name": "stdout",
     "output_type": "stream",
     "text": [
      "Id                - int64      has   0 null records\n",
      "Name              - object     has   1 null records\n",
      "City              - object     has   0 null records\n",
      "State             - object     has   0 null records\n",
      "Zip               - int64      has   0 null records\n",
      "Bank              - object     has  76 null records\n",
      "BankState         - object     has  77 null records\n",
      "NAICS             - int64      has   0 null records\n",
      "ApprovalDate      - object     has   0 null records\n",
      "ApprovalFY        - object     has   0 null records\n",
      "Term              - int64      has   0 null records\n",
      "NoEmp             - int64      has   0 null records\n",
      "NewExist          - float64    has   7 null records\n",
      "CreateJob         - int64      has   0 null records\n",
      "RetainedJob       - int64      has   0 null records\n",
      "FranchiseCode     - int64      has   0 null records\n",
      "UrbanRural        - int64      has   0 null records\n",
      "RevLineCr         - object     has 153 null records\n",
      "LowDoc            - object     has 172 null records\n",
      "DisbursementDate  - object     has 119 null records\n",
      "DisbursementGross - object     has   0 null records\n",
      "BalanceGross      - object     has   0 null records\n",
      "GrAppv            - object     has   0 null records\n",
      "SBA_Appv          - object     has   0 null records\n"
     ]
    }
   ],
   "source": [
    "preprocessing.data_inspection()"
   ]
  },
  {
   "cell_type": "code",
   "execution_count": null,
   "metadata": {},
   "outputs": [],
   "source": []
  },
  {
   "cell_type": "code",
   "execution_count": null,
   "metadata": {},
   "outputs": [],
   "source": []
  },
  {
   "cell_type": "code",
   "execution_count": null,
   "metadata": {},
   "outputs": [],
   "source": []
  },
  {
   "cell_type": "code",
   "execution_count": null,
   "metadata": {},
   "outputs": [],
   "source": []
  }
 ],
 "metadata": {
  "kernelspec": {
   "display_name": "Python 3",
   "language": "python",
   "name": "python3"
  },
  "language_info": {
   "codemirror_mode": {
    "name": "ipython",
    "version": 3
   },
   "file_extension": ".py",
   "mimetype": "text/x-python",
   "name": "python",
   "nbconvert_exporter": "python",
   "pygments_lexer": "ipython3",
   "version": "3.8.3"
  }
 },
 "nbformat": 4,
 "nbformat_minor": 4
}
