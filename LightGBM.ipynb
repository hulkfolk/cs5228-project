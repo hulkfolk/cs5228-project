{
 "cells": [
  {
   "cell_type": "code",
   "execution_count": 1,
   "metadata": {},
   "outputs": [],
   "source": [
    "%load_ext autoreload\n",
    "%autoreload 2"
   ]
  },
  {
   "cell_type": "code",
   "execution_count": 2,
   "metadata": {},
   "outputs": [],
   "source": [
    "import pandas as pd\n",
    "import numpy as np\n",
    "import matplotlib.pyplot as plt\n",
    "from datetime import datetime, date\n",
    "\n",
    "from sklearn.metrics import accuracy_score\n",
    "from sklearn.model_selection import RandomizedSearchCV\n",
    "from sklearn.model_selection import train_test_split\n",
    "\n",
    "from lightgbm import LGBMClassifier\n",
    "import preprocessing"
   ]
  },
  {
   "cell_type": "code",
   "execution_count": 3,
   "metadata": {},
   "outputs": [],
   "source": [
    "#Import data\n",
    "xtrain = pd.read_csv(\"Xtrain.csv\")\n",
    "ytrain = pd.read_csv(\"Ytrain.csv\")\n",
    "records = xtrain.copy()\n",
    "records['ChargeOff'] = ytrain['ChargeOff']"
   ]
  },
  {
   "cell_type": "code",
   "execution_count": 4,
   "metadata": {},
   "outputs": [],
   "source": [
    "processed_records = preprocessing.all_preprocess_with_label_encoding(records)"
   ]
  },
  {
   "cell_type": "code",
   "execution_count": 5,
   "metadata": {},
   "outputs": [],
   "source": [
    "x = processed_records.drop(columns='ChargeOff')\n",
    "y = processed_records['ChargeOff']\n",
    "x_train, x_test, y_train, y_test = train_test_split(x, y, test_size = 0.25, random_state=0)"
   ]
  },
  {
   "cell_type": "code",
   "execution_count": 13,
   "metadata": {},
   "outputs": [
    {
     "name": "stdout",
     "output_type": "stream",
     "text": [
      "Fitting 10 folds for each of 100 candidates, totalling 1000 fits\n"
     ]
    },
    {
     "name": "stderr",
     "output_type": "stream",
     "text": [
      "[Parallel(n_jobs=-1)]: Using backend LokyBackend with 12 concurrent workers.\n",
      "[Parallel(n_jobs=-1)]: Done  17 tasks      | elapsed:    5.7s\n",
      "[Parallel(n_jobs=-1)]: Done 138 tasks      | elapsed:   29.8s\n",
      "[Parallel(n_jobs=-1)]: Done 341 tasks      | elapsed:  1.1min\n",
      "[Parallel(n_jobs=-1)]: Done 624 tasks      | elapsed:  1.8min\n",
      "[Parallel(n_jobs=-1)]: Done 1000 out of 1000 | elapsed:  2.9min finished\n"
     ]
    },
    {
     "name": "stdout",
     "output_type": "stream",
     "text": [
      "{'num_leaves': 103, 'n_estimators': 90, 'max_depth': -1, 'learning_rate': 0.1, 'boosting_type': 'goss'}\n"
     ]
    }
   ],
   "source": [
    "#Hyperparameter configs in LightGBM\n",
    "boosting_type = ['gbdt', 'dart', 'goss']\n",
    "n_estimators = [int(x) for x in np.linspace(start = 50, stop = 120, num = 20)]\n",
    "num_leaves = [int(x) for x in np.linspace(start = 70, stop = 150, num = 20)]\n",
    "learning_rate=[.05, .07, .09, .1, .12]\n",
    "max_depth = [5,6,-1]\n",
    "# Create the random grid\n",
    "random_grid = {'boosting_type':boosting_type,\n",
    "               'n_estimators': n_estimators,\n",
    "               'num_leaves': num_leaves,\n",
    "               'learning_rate': learning_rate,\n",
    "               'max_depth': max_depth, }\n",
    "# Use the random grid to search for best hyperparameters\n",
    "# First create the base model to tune\n",
    "lgb = LGBMClassifier()\n",
    "# Random search of parameters, using 3 fold cross validation, \n",
    "# search across 100 different combinations, and use all available cores\n",
    "lgb_random = RandomizedSearchCV(estimator = lgb, param_distributions = random_grid, n_iter = 100, cv = 10, verbose=2, random_state=51, n_jobs = -1)\n",
    "lgb_random.fit(x_train, y_train)\n",
    "\n",
    "print(lgb_random.best_params_)"
   ]
  },
  {
   "cell_type": "code",
   "execution_count": 14,
   "metadata": {},
   "outputs": [
    {
     "name": "stdout",
     "output_type": "stream",
     "text": [
      "Model Performance\n",
      "Accuracy = 0.93%.\n",
      "Model Performance\n",
      "Accuracy = 0.93%.\n",
      "Improvement of 0.50%.\n"
     ]
    }
   ],
   "source": [
    "def evaluate(model, x_test, y_test):\n",
    "    accuracy=accuracy_score(y_test, model.predict(x_test))\n",
    "    print('Model Performance')\n",
    "    print('Accuracy = {:0.2f}%.'.format(accuracy))\n",
    "    return accuracy\n",
    "\n",
    "base_model = LGBMClassifier(random_state = 51)\n",
    "base_model.fit(x_train, y_train)\n",
    "base_accuracy = evaluate(base_model, x_test, y_test)\n",
    "\n",
    "best_random = lgb_random.best_estimator_\n",
    "random_accuracy = evaluate(best_random, x_test, y_test)\n",
    "\n",
    "print('Improvement of {:0.2f}%.'.format( 100 * (random_accuracy - base_accuracy) / base_accuracy))"
   ]
  },
  {
   "cell_type": "code",
   "execution_count": 9,
   "metadata": {},
   "outputs": [
    {
     "data": {
      "text/plain": [
       "LGBMClassifier(learning_rate=0.09, n_estimators=116, num_leaves=74)"
      ]
     },
     "execution_count": 9,
     "metadata": {},
     "output_type": "execute_result"
    }
   ],
   "source": [
    "lgb.set_params(**lgb_random.best_params_)"
   ]
  },
  {
   "cell_type": "code",
   "execution_count": 15,
   "metadata": {},
   "outputs": [
    {
     "data": {
      "text/plain": [
       "0.92656"
      ]
     },
     "execution_count": 15,
     "metadata": {},
     "output_type": "execute_result"
    }
   ],
   "source": [
    "lgb.fit(x_train,y_train)\n",
    "accuracy=accuracy_score(y_test, lgb.predict(x_test))\n",
    "accuracy"
   ]
  },
  {
   "cell_type": "code",
   "execution_count": 23,
   "metadata": {},
   "outputs": [
    {
     "data": {
      "text/plain": [
       "<BarContainer object of 23 artists>"
      ]
     },
     "execution_count": 23,
     "metadata": {},
     "output_type": "execute_result"
    },
    {
     "data": {
      "image/png": "[encoded data removed]",
      "text/plain": [
       "<Figure size 432x288 with 1 Axes>"
      ]
     },
     "metadata": {
      "needs_background": "light"
     },
     "output_type": "display_data"
    }
   ],
   "source": [
    "feature_import = list(zip(x_train.columns,lgb.feature_importances_))\n",
    "df = pd.DataFrame(columns=['Feature', 'Importance'], data=feature_import)\n",
    "df=df.sort_values(by=['Importance'])\n",
    "plt.figure()\n",
    "plt.title(\"Feature importances\")\n",
    "plt.barh(df['Feature'], df['Importance'],\n",
    "       color=\"g\", align=\"center\", )"
   ]
  },
  {
   "cell_type": "code",
   "execution_count": 16,
   "metadata": {},
   "outputs": [
    {
     "name": "stderr",
     "output_type": "stream",
     "text": [
      "/Users/shiyu/opt/anaconda3/lib/python3.8/site-packages/IPython/core/interactiveshell.py:3071: DtypeWarning: Columns (9) have mixed types.Specify dtype option on import or set low_memory=False.\n",
      "  has_raised = await self.run_ast_nodes(code_ast.body, cell_name,\n"
     ]
    }
   ],
   "source": [
    "Xtest = pd.read_csv('Xtest.csv')\n",
    "Xtest_processed = preprocessing.all_preprocess_with_label_encoding(Xtest)"
   ]
  },
  {
   "cell_type": "code",
   "execution_count": 17,
   "metadata": {},
   "outputs": [],
   "source": [
    "submission = pd.DataFrame()\n",
    "submission['Id'] = Xtest['Id']\n",
    "submission['ChargeOff'] = best_random.predict(Xtest_processed)\n",
    "submission.to_csv('submission_lightgbm.csv', index=False)"
   ]
  }
 ],
 "metadata": {
  "kernelspec": {
   "display_name": "Python 3",
   "language": "python",
   "name": "python3"
  },
  "language_info": {
   "codemirror_mode": {
    "name": "ipython",
    "version": 3
   },
   "file_extension": ".py",
   "mimetype": "text/x-python",
   "name": "python",
   "nbconvert_exporter": "python",
   "pygments_lexer": "ipython3",
   "version": "3.8.3"
  }
 },
 "nbformat": 4,
 "nbformat_minor": 4
}
