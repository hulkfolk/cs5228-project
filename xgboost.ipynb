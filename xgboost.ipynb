{
 "cells": [
  {
   "cell_type": "code",
   "execution_count": 1,
   "metadata": {},
   "outputs": [],
   "source": [
    "import itertools\n",
    "import re\n",
    "import pandas as pd\n",
    "import numpy as np\n",
    "import matplotlib.pyplot as plt\n",
    "from datetime import datetime, date, timedelta\n",
    "from math import log\n",
    "\n",
    "# visualization\n",
    "import seaborn as sb\n",
    "import matplotlib.pyplot as plt\n",
    "%matplotlib inline\n",
    "\n",
    "import xgboost as xgb\n",
    "from catboost import CatBoostClassifier, Pool, cv\n",
    "import hyperopt\n",
    "from numpy.random import RandomState\n",
    "from scipy.stats import uniform\n",
    "\n",
    "from sklearn.preprocessing import LabelEncoder, OneHotEncoder\n",
    "from sklearn.model_selection import train_test_split, cross_val_score, GridSearchCV\n",
    "# model evaluation\n",
    "from sklearn.metrics import confusion_matrix\n",
    "from sklearn.metrics import f1_score\n",
    "from sklearn.metrics import accuracy_score\n",
    "\n",
    "# classifiers\n",
    "from sklearn.naive_bayes import GaussianNB # naive bayes\n",
    "from sklearn.neighbors import KNeighborsClassifier # KNN\n",
    "from sklearn.linear_model import LogisticRegression # logistic regression\n",
    "from sklearn.tree import DecisionTreeClassifier # decision Tree\n",
    "from sklearn.ensemble import RandomForestClassifier \n",
    "from sklearn.ensemble import GradientBoostingClassifier\n",
    "\n",
    "import preprocessing"
   ]
  },
  {
   "cell_type": "code",
   "execution_count": 2,
   "metadata": {},
   "outputs": [],
   "source": [
    "#Import data\n",
    "xtrain = pd.read_csv(\"Xtrain.csv\")\n",
    "ytrain = pd.read_csv(\"Ytrain.csv\")\n",
    "records = xtrain.copy()\n",
    "records['ChargeOff'] = ytrain['ChargeOff']"
   ]
  },
  {
   "cell_type": "markdown",
   "metadata": {},
   "source": [
    "### Data Prepocessing"
   ]
  },
  {
   "cell_type": "code",
   "execution_count": 3,
   "metadata": {},
   "outputs": [
    {
     "data": {
      "text/html": [
       "<div>\n",
       "<style scoped>\n",
       "    .dataframe tbody tr th:only-of-type {\n",
       "        vertical-align: middle;\n",
       "    }\n",
       "\n",
       "    .dataframe tbody tr th {\n",
       "        vertical-align: top;\n",
       "    }\n",
       "\n",
       "    .dataframe thead th {\n",
       "        text-align: right;\n",
       "    }\n",
       "</style>\n",
       "<table border=\"1\" class=\"dataframe\">\n",
       "  <thead>\n",
       "    <tr style=\"text-align: right;\">\n",
       "      <th></th>\n",
       "      <th>Term</th>\n",
       "      <th>NoEmp</th>\n",
       "      <th>CreateJob</th>\n",
       "      <th>RetainedJob</th>\n",
       "      <th>UrbanRural</th>\n",
       "      <th>DisbursementGross</th>\n",
       "      <th>GrAppv</th>\n",
       "      <th>SBA_Appv</th>\n",
       "      <th>ChargeOff</th>\n",
       "      <th>GrAppv_SBAAppv</th>\n",
       "      <th>...</th>\n",
       "      <th>BankState_Cat</th>\n",
       "      <th>NAICS_Cat</th>\n",
       "      <th>ApprovalDate_Cat</th>\n",
       "      <th>ApprovalFY_Cat</th>\n",
       "      <th>NewExist_Cat</th>\n",
       "      <th>FranchiseCode_Cat</th>\n",
       "      <th>RevLineCr_Cat</th>\n",
       "      <th>LowDoc_Cat</th>\n",
       "      <th>DisbursementDate_Cat</th>\n",
       "      <th>Recession_Cat</th>\n",
       "    </tr>\n",
       "  </thead>\n",
       "  <tbody>\n",
       "    <tr>\n",
       "      <th>0</th>\n",
       "      <td>130</td>\n",
       "      <td>25</td>\n",
       "      <td>2</td>\n",
       "      <td>0</td>\n",
       "      <td>1</td>\n",
       "      <td>2000000.0</td>\n",
       "      <td>2000000.0</td>\n",
       "      <td>1500000.0</td>\n",
       "      <td>0</td>\n",
       "      <td>0.75</td>\n",
       "      <td>...</td>\n",
       "      <td>8</td>\n",
       "      <td>10</td>\n",
       "      <td>1585</td>\n",
       "      <td>41</td>\n",
       "      <td>1</td>\n",
       "      <td>0</td>\n",
       "      <td>0</td>\n",
       "      <td>0</td>\n",
       "      <td>83</td>\n",
       "      <td>0</td>\n",
       "    </tr>\n",
       "    <tr>\n",
       "      <th>1</th>\n",
       "      <td>33</td>\n",
       "      <td>6</td>\n",
       "      <td>1</td>\n",
       "      <td>3</td>\n",
       "      <td>1</td>\n",
       "      <td>17000.0</td>\n",
       "      <td>17000.0</td>\n",
       "      <td>17000.0</td>\n",
       "      <td>1</td>\n",
       "      <td>1.00</td>\n",
       "      <td>...</td>\n",
       "      <td>45</td>\n",
       "      <td>3</td>\n",
       "      <td>5299</td>\n",
       "      <td>41</td>\n",
       "      <td>1</td>\n",
       "      <td>0</td>\n",
       "      <td>0</td>\n",
       "      <td>0</td>\n",
       "      <td>33</td>\n",
       "      <td>0</td>\n",
       "    </tr>\n",
       "    <tr>\n",
       "      <th>2</th>\n",
       "      <td>60</td>\n",
       "      <td>1</td>\n",
       "      <td>1</td>\n",
       "      <td>1</td>\n",
       "      <td>1</td>\n",
       "      <td>17000.0</td>\n",
       "      <td>17000.0</td>\n",
       "      <td>8500.0</td>\n",
       "      <td>0</td>\n",
       "      <td>0.50</td>\n",
       "      <td>...</td>\n",
       "      <td>27</td>\n",
       "      <td>13</td>\n",
       "      <td>4868</td>\n",
       "      <td>33</td>\n",
       "      <td>1</td>\n",
       "      <td>0</td>\n",
       "      <td>2</td>\n",
       "      <td>0</td>\n",
       "      <td>1953</td>\n",
       "      <td>0</td>\n",
       "    </tr>\n",
       "    <tr>\n",
       "      <th>3</th>\n",
       "      <td>160</td>\n",
       "      <td>1</td>\n",
       "      <td>0</td>\n",
       "      <td>0</td>\n",
       "      <td>0</td>\n",
       "      <td>137000.0</td>\n",
       "      <td>137000.0</td>\n",
       "      <td>123300.0</td>\n",
       "      <td>0</td>\n",
       "      <td>0.90</td>\n",
       "      <td>...</td>\n",
       "      <td>50</td>\n",
       "      <td>12</td>\n",
       "      <td>322</td>\n",
       "      <td>25</td>\n",
       "      <td>2</td>\n",
       "      <td>0</td>\n",
       "      <td>0</td>\n",
       "      <td>0</td>\n",
       "      <td>2033</td>\n",
       "      <td>1</td>\n",
       "    </tr>\n",
       "    <tr>\n",
       "      <th>4</th>\n",
       "      <td>101</td>\n",
       "      <td>2</td>\n",
       "      <td>7</td>\n",
       "      <td>2</td>\n",
       "      <td>1</td>\n",
       "      <td>46665.0</td>\n",
       "      <td>25000.0</td>\n",
       "      <td>12500.0</td>\n",
       "      <td>0</td>\n",
       "      <td>0.50</td>\n",
       "      <td>...</td>\n",
       "      <td>24</td>\n",
       "      <td>7</td>\n",
       "      <td>6081</td>\n",
       "      <td>37</td>\n",
       "      <td>1</td>\n",
       "      <td>0</td>\n",
       "      <td>2</td>\n",
       "      <td>0</td>\n",
       "      <td>2045</td>\n",
       "      <td>1</td>\n",
       "    </tr>\n",
       "  </tbody>\n",
       "</table>\n",
       "<p>5 rows × 24 columns</p>\n",
       "</div>"
      ],
      "text/plain": [
       "   Term  NoEmp  CreateJob  RetainedJob  UrbanRural  DisbursementGross  \\\n",
       "0   130     25          2            0           1          2000000.0   \n",
       "1    33      6          1            3           1            17000.0   \n",
       "2    60      1          1            1           1            17000.0   \n",
       "3   160      1          0            0           0           137000.0   \n",
       "4   101      2          7            2           1            46665.0   \n",
       "\n",
       "      GrAppv   SBA_Appv  ChargeOff  GrAppv_SBAAppv  ...  BankState_Cat  \\\n",
       "0  2000000.0  1500000.0          0            0.75  ...              8   \n",
       "1    17000.0    17000.0          1            1.00  ...             45   \n",
       "2    17000.0     8500.0          0            0.50  ...             27   \n",
       "3   137000.0   123300.0          0            0.90  ...             50   \n",
       "4    25000.0    12500.0          0            0.50  ...             24   \n",
       "\n",
       "   NAICS_Cat  ApprovalDate_Cat  ApprovalFY_Cat  NewExist_Cat  \\\n",
       "0         10              1585              41             1   \n",
       "1          3              5299              41             1   \n",
       "2         13              4868              33             1   \n",
       "3         12               322              25             2   \n",
       "4          7              6081              37             1   \n",
       "\n",
       "   FranchiseCode_Cat  RevLineCr_Cat  LowDoc_Cat  DisbursementDate_Cat  \\\n",
       "0                  0              0           0                    83   \n",
       "1                  0              0           0                    33   \n",
       "2                  0              2           0                  1953   \n",
       "3                  0              0           0                  2033   \n",
       "4                  0              2           0                  2045   \n",
       "\n",
       "   Recession_Cat  \n",
       "0              0  \n",
       "1              0  \n",
       "2              0  \n",
       "3              1  \n",
       "4              1  \n",
       "\n",
       "[5 rows x 24 columns]"
      ]
     },
     "execution_count": 3,
     "metadata": {},
     "output_type": "execute_result"
    }
   ],
   "source": [
    "records = preprocessing.all_preprocess_with_label_encoding(records)\n",
    "records.head()"
   ]
  },
  {
   "cell_type": "code",
   "execution_count": 4,
   "metadata": {},
   "outputs": [],
   "source": [
    "x1 = records.drop(columns='ChargeOff')\n",
    "y1 = records['ChargeOff']\n",
    "x_train, x_test, y_train, y_test = train_test_split(x1, y1, test_size = 0.25, random_state=0)"
   ]
  },
  {
   "cell_type": "markdown",
   "metadata": {},
   "source": [
    "### Train model\n",
    "- the choice of categofical features matters"
   ]
  },
  {
   "cell_type": "code",
   "execution_count": 19,
   "metadata": {},
   "outputs": [
    {
     "name": "stdout",
     "output_type": "stream",
     "text": [
      "prediction with the best model: accuracy: 93.62, weighted F1: 93.62\n"
     ]
    }
   ],
   "source": [
    "# run with xgboost\n",
    "model = xgb.XGBClassifier(objective='binary:logistic', \n",
    "                          n_estimators=330,\n",
    "                          learning_rate=0.1380212978973748,\n",
    "                          max_depth=9,\n",
    "                          random_state=51,\n",
    "                          gamma=0.45,\n",
    "                          min_child_weight=0.43)\n",
    "model.fit(x_train, y_train)\n",
    "preds = model.predict(x_test)\n",
    "f1 = round(f1_score(y_test, preds, average='weighted') * 100, 2)\n",
    "acc = round(accuracy_score(y_test, preds) * 100, 2)\n",
    "\n",
    "print(f\"prediction with the best model: accuracy: {acc}, weighted F1: {f1}\")"
   ]
  },
  {
   "cell_type": "code",
   "execution_count": 20,
   "metadata": {},
   "outputs": [
    {
     "data": {
      "text/plain": [
       "XGBClassifier(base_score=0.5, booster='gbtree', colsample_bylevel=1,\n",
       "              colsample_bynode=1, colsample_bytree=1, gamma=0.45, gpu_id=-1,\n",
       "              importance_type='gain', interaction_constraints='',\n",
       "              learning_rate=0.1380212978973748, max_delta_step=0, max_depth=9,\n",
       "              min_child_weight=0.43, missing=nan, monotone_constraints='()',\n",
       "              n_estimators=330, n_jobs=0, num_parallel_tree=1, random_state=51,\n",
       "              reg_alpha=0, reg_lambda=1, scale_pos_weight=1, subsample=1,\n",
       "              tree_method='exact', validate_parameters=1, verbosity=None)"
      ]
     },
     "execution_count": 20,
     "metadata": {},
     "output_type": "execute_result"
    }
   ],
   "source": [
    "model = xgb.XGBClassifier(objective='binary:logistic', \n",
    "                              n_estimators=330,\n",
    "                              learning_rate=0.1380212978973748,\n",
    "                              max_depth=9,\n",
    "                              random_state=51,\n",
    "                              gamma=0.45,\n",
    "                              min_child_weight=0.43\n",
    "                             )\n",
    "model.fit(x1, y1)"
   ]
  },
  {
   "cell_type": "code",
   "execution_count": 26,
   "metadata": {},
   "outputs": [
    {
     "data": {
      "image/png": "[encoded data removed]",
      "text/plain": [
       "<Figure size 432x288 with 1 Axes>"
      ]
     },
     "metadata": {
      "needs_background": "light"
     },
     "output_type": "display_data"
    }
   ],
   "source": [
    "feature_import = list(zip(x_train.columns,model.feature_importances_))\n",
    "df = pd.DataFrame(columns=['Feature', 'Importance'], data=feature_import)\n",
    "df=df.sort_values(by=['Importance'])\n",
    "plt.figure()\n",
    "plt.title(\"Feature importances\")\n",
    "plt.barh(df['Feature'], df['Importance'],\n",
    "       color=\"g\", align=\"center\", )\n",
    "plt.savefig('xgboost.png', bbox_inches='tight')"
   ]
  },
  {
   "cell_type": "markdown",
   "metadata": {},
   "source": [
    "### Train model with best params"
   ]
  },
  {
   "cell_type": "code",
   "execution_count": null,
   "metadata": {},
   "outputs": [],
   "source": [
    "gsc = GridSearchCV(estimator=xgb.XGBClassifier(objective='binary:logistic'),\n",
    "                   param_grid={'n_estimators': [i for i in range(150, 750, 10)],\n",
    "                               'max_depth': [i for i in range(4, 34, 2)],\n",
    "                               'learning_rate': [log(i) for i in np.arange(1.11, 1.27, 0.02)],\n",
    "                               'gamma': [i for i in np.arange(0, 0.55, 0.05)],\n",
    "                               'min_child_weight': [i for i in range(1, 11, 1)]\n",
    "                              },\n",
    "                   cv=10, scoring='accuracy', verbose=0)\n",
    "best_model = gsc.fit(x_train, y_train)"
   ]
  },
  {
   "cell_type": "code",
   "execution_count": 104,
   "metadata": {},
   "outputs": [],
   "source": [
    "def hyperopt_objective(params):\n",
    "    model = xgb.XGBClassifier(n_estimators = params['n_estimators'],\n",
    "#                               max_depth = int(params['max_depth']),\n",
    "                              learning_rate = params['learning_rate'],\n",
    "#                               gamma = params['gamma'],\n",
    "#                               min_child_weight = params['min_child_weight'],\n",
    "#                               subsample = params['subsample'],\n",
    "#                               colsample_bytree = params['colsample_bytree']\n",
    "                             )\n",
    "    \n",
    "    model.fit(x_train, y_train)\n",
    "\n",
    "    accuracies = cross_val_score(estimator=model, X=x_train, y=y_train, cv=10)\n",
    "    CrossValMean = accuracies.mean()\n",
    "\n",
    "    return{'loss':1-CrossValMean, 'status': hyperopt.STATUS_OK }"
   ]
  },
  {
   "cell_type": "code",
   "execution_count": null,
   "metadata": {},
   "outputs": [],
   "source": [
    "params_space = {\n",
    "    'learning_rate': hyperopt.hp.uniform('learning_rate', 1e-3, 5e-1),\n",
    "#     'max_depth' : hyperopt.hp.choice('max_depth', range(5, 30, 1)),\n",
    "    'n_estimators' : hyperopt.hp.choice('n_estimators', range(20, 205, 5)),\n",
    "#     'gamma' : hyperopt.hp.quniform('gamma', 0, 0.50, 0.01),\n",
    "#     'min_child_weight' : hyperopt.hp.quniform('min_child_weight', 1, 10, 1),\n",
    "#     'subsample' : hyperopt.hp.quniform('subsample', 0.1, 1, 0.01),\n",
    "#     'colsample_bytree' : hyperopt.hp.quniform('colsample_bytree', 0.1, 1.0, 0.01)    \n",
    "}\n",
    "\n",
    "trials = hyperopt.Trials()\n",
    "\n",
    "best = hyperopt.fmin(\n",
    "    hyperopt_objective,\n",
    "    space=params_space,\n",
    "    algo=hyperopt.tpe.suggest,\n",
    "    max_evals=50,\n",
    "    trials=trials\n",
    ")\n",
    "\n",
    "print(best)"
   ]
  },
  {
   "cell_type": "markdown",
   "metadata": {},
   "source": [
    "### Predict"
   ]
  },
  {
   "cell_type": "code",
   "execution_count": 22,
   "metadata": {},
   "outputs": [],
   "source": [
    "X_test = pd.read_csv('Xtest.csv')\n",
    "X_testset = preprocessing.all_preprocess_with_label_encoding(X_test)"
   ]
  },
  {
   "cell_type": "code",
   "execution_count": 23,
   "metadata": {},
   "outputs": [],
   "source": [
    "import pandas as pd\n",
    "submisstion = pd.DataFrame()\n",
    "submisstion['Id'] = X_test['Id']\n",
    "submisstion['ChargeOff'] = model.predict(X_testset)"
   ]
  },
  {
   "cell_type": "code",
   "execution_count": 24,
   "metadata": {},
   "outputs": [],
   "source": [
    "submisstion.to_csv('submission.csv', index=False)"
   ]
  },
  {
   "cell_type": "code",
   "execution_count": null,
   "metadata": {},
   "outputs": [],
   "source": []
  }
 ],
 "metadata": {
  "kernelspec": {
   "display_name": "Python 3",
   "language": "python",
   "name": "python3"
  },
  "language_info": {
   "codemirror_mode": {
    "name": "ipython",
    "version": 3
   },
   "file_extension": ".py",
   "mimetype": "text/x-python",
   "name": "python",
   "nbconvert_exporter": "python",
   "pygments_lexer": "ipython3",
   "version": "3.6.5"
  }
 },
 "nbformat": 4,
 "nbformat_minor": 4
}
