{
 "cells": [
  {
   "cell_type": "code",
   "execution_count": 84,
   "metadata": {},
   "outputs": [],
   "source": [
    "import itertools\n",
    "import re\n",
    "import pandas as pd\n",
    "import numpy as np\n",
    "import matplotlib.pyplot as plt\n",
    "from datetime import datetime, date, timedelta\n",
    "from math import log\n",
    "\n",
    "# visualization\n",
    "import seaborn as sb\n",
    "import matplotlib.pyplot as plt\n",
    "%matplotlib inline\n",
    "\n",
    "import xgboost as xgb\n",
    "from catboost import CatBoostClassifier, Pool, cv\n",
    "import hyperopt\n",
    "from numpy.random import RandomState\n",
    "from scipy.stats import uniform\n",
    "\n",
    "from sklearn.preprocessing import LabelEncoder, OneHotEncoder\n",
    "from sklearn.model_selection import train_test_split, cross_val_score, GridSearchCV\n",
    "# model evaluation\n",
    "from sklearn.metrics import confusion_matrix\n",
    "from sklearn.metrics import f1_score\n",
    "from sklearn.metrics import accuracy_score\n",
    "\n",
    "# classifiers\n",
    "from sklearn.naive_bayes import GaussianNB # naive bayes\n",
    "from sklearn.neighbors import KNeighborsClassifier # KNN\n",
    "from sklearn.linear_model import LogisticRegression # logistic regression\n",
    "from sklearn.tree import DecisionTreeClassifier # decision Tree\n",
    "from sklearn.ensemble import RandomForestClassifier \n",
    "from sklearn.ensemble import GradientBoostingClassifier"
   ]
  },
  {
   "cell_type": "code",
   "execution_count": 97,
   "metadata": {},
   "outputs": [
    {
     "name": "stdout",
     "output_type": "stream",
     "text": [
      "Id                     int64\n",
      "Name                  object\n",
      "City                  object\n",
      "State                 object\n",
      "Zip                    int64\n",
      "Bank                  object\n",
      "BankState             object\n",
      "NAICS                  int64\n",
      "ApprovalDate          object\n",
      "ApprovalFY            object\n",
      "Term                   int64\n",
      "NoEmp                  int64\n",
      "NewExist             float64\n",
      "CreateJob              int64\n",
      "RetainedJob            int64\n",
      "FranchiseCode          int64\n",
      "UrbanRural             int64\n",
      "RevLineCr             object\n",
      "LowDoc                object\n",
      "DisbursementDate      object\n",
      "DisbursementGross     object\n",
      "BalanceGross          object\n",
      "GrAppv                object\n",
      "SBA_Appv              object\n",
      "ChargeOff              int64\n",
      "dtype: object\n",
      "(50000, 25)\n"
     ]
    }
   ],
   "source": [
    "#Import data\n",
    "xtrain = pd.read_csv(\"Xtrain.csv\")\n",
    "ytrain = pd.read_csv(\"Ytrain.csv\")\n",
    "records = xtrain.copy()\n",
    "records['ChargeOff'] = ytrain['ChargeOff']\n",
    "print(records.dtypes)\n",
    "print(records.shape)"
   ]
  },
  {
   "cell_type": "markdown",
   "metadata": {},
   "source": [
    "### Data Prepocessing\n",
    "- removal of nan value affect the accuracy negatively"
   ]
  },
  {
   "cell_type": "code",
   "execution_count": 98,
   "metadata": {},
   "outputs": [],
   "source": [
    "#To find and remove duplicate rows\n",
    "#records.drop( records[records.duplicated()].index, axis=0, inplace=True )\n",
    "records = records.drop(columns=['Id', 'Name', 'BalanceGross'])\n",
    "def clean_dirty_data(records):\n",
    "    ids_to_remove = set()\n",
    "    for index, row in records.iterrows():\n",
    "        if row['LowDoc'] not in ('Y', 'N'):\n",
    "            ids_to_remove.add(index)\n",
    "    print(f'# of ids removed: {len(ids_to_remove)}')\n",
    "    records = records.drop(list(ids_to_remove))\n",
    "    return records\n",
    "# records = clean_dirty_data(records)"
   ]
  },
  {
   "cell_type": "markdown",
   "metadata": {},
   "source": [
    "### Data Transformation"
   ]
  },
  {
   "cell_type": "code",
   "execution_count": 99,
   "metadata": {},
   "outputs": [
    {
     "data": {
      "text/html": [
       "<div>\n",
       "<style scoped>\n",
       "    .dataframe tbody tr th:only-of-type {\n",
       "        vertical-align: middle;\n",
       "    }\n",
       "\n",
       "    .dataframe tbody tr th {\n",
       "        vertical-align: top;\n",
       "    }\n",
       "\n",
       "    .dataframe thead th {\n",
       "        text-align: right;\n",
       "    }\n",
       "</style>\n",
       "<table border=\"1\" class=\"dataframe\">\n",
       "  <thead>\n",
       "    <tr style=\"text-align: right;\">\n",
       "      <th></th>\n",
       "      <th>City</th>\n",
       "      <th>State</th>\n",
       "      <th>Zip</th>\n",
       "      <th>Bank</th>\n",
       "      <th>BankState</th>\n",
       "      <th>NAICS</th>\n",
       "      <th>ApprovalDate</th>\n",
       "      <th>ApprovalFY</th>\n",
       "      <th>Term</th>\n",
       "      <th>NoEmp</th>\n",
       "      <th>...</th>\n",
       "      <th>UrbanRural</th>\n",
       "      <th>RevLineCr</th>\n",
       "      <th>LowDoc</th>\n",
       "      <th>DisbursementDate</th>\n",
       "      <th>DisbursementGross</th>\n",
       "      <th>GrAppv</th>\n",
       "      <th>SBA_Appv</th>\n",
       "      <th>ChargeOff</th>\n",
       "      <th>Recession</th>\n",
       "      <th>Ratio</th>\n",
       "    </tr>\n",
       "  </thead>\n",
       "  <tbody>\n",
       "    <tr>\n",
       "      <th>0</th>\n",
       "      <td>6765</td>\n",
       "      <td>9</td>\n",
       "      <td>3772</td>\n",
       "      <td>2372</td>\n",
       "      <td>8</td>\n",
       "      <td>0</td>\n",
       "      <td>1585</td>\n",
       "      <td>41</td>\n",
       "      <td>130</td>\n",
       "      <td>25</td>\n",
       "      <td>...</td>\n",
       "      <td>1</td>\n",
       "      <td>0</td>\n",
       "      <td>0</td>\n",
       "      <td>0</td>\n",
       "      <td>2000000.0</td>\n",
       "      <td>2000000.0</td>\n",
       "      <td>1500000.0</td>\n",
       "      <td>0</td>\n",
       "      <td>0</td>\n",
       "      <td>1.0000</td>\n",
       "    </tr>\n",
       "    <tr>\n",
       "      <th>1</th>\n",
       "      <td>7382</td>\n",
       "      <td>44</td>\n",
       "      <td>11442</td>\n",
       "      <td>2783</td>\n",
       "      <td>45</td>\n",
       "      <td>0</td>\n",
       "      <td>5299</td>\n",
       "      <td>41</td>\n",
       "      <td>33</td>\n",
       "      <td>6</td>\n",
       "      <td>...</td>\n",
       "      <td>1</td>\n",
       "      <td>0</td>\n",
       "      <td>0</td>\n",
       "      <td>0</td>\n",
       "      <td>17000.0</td>\n",
       "      <td>17000.0</td>\n",
       "      <td>17000.0</td>\n",
       "      <td>1</td>\n",
       "      <td>0</td>\n",
       "      <td>1.0000</td>\n",
       "    </tr>\n",
       "    <tr>\n",
       "      <th>2</th>\n",
       "      <td>4670</td>\n",
       "      <td>4</td>\n",
       "      <td>12029</td>\n",
       "      <td>210</td>\n",
       "      <td>27</td>\n",
       "      <td>0</td>\n",
       "      <td>4868</td>\n",
       "      <td>33</td>\n",
       "      <td>60</td>\n",
       "      <td>1</td>\n",
       "      <td>...</td>\n",
       "      <td>1</td>\n",
       "      <td>1</td>\n",
       "      <td>0</td>\n",
       "      <td>0</td>\n",
       "      <td>17000.0</td>\n",
       "      <td>17000.0</td>\n",
       "      <td>8500.0</td>\n",
       "      <td>0</td>\n",
       "      <td>0</td>\n",
       "      <td>1.0000</td>\n",
       "    </tr>\n",
       "    <tr>\n",
       "      <th>3</th>\n",
       "      <td>4628</td>\n",
       "      <td>48</td>\n",
       "      <td>6842</td>\n",
       "      <td>168</td>\n",
       "      <td>50</td>\n",
       "      <td>0</td>\n",
       "      <td>322</td>\n",
       "      <td>25</td>\n",
       "      <td>160</td>\n",
       "      <td>1</td>\n",
       "      <td>...</td>\n",
       "      <td>0</td>\n",
       "      <td>0</td>\n",
       "      <td>0</td>\n",
       "      <td>0</td>\n",
       "      <td>137000.0</td>\n",
       "      <td>137000.0</td>\n",
       "      <td>123300.0</td>\n",
       "      <td>0</td>\n",
       "      <td>0</td>\n",
       "      <td>1.0000</td>\n",
       "    </tr>\n",
       "    <tr>\n",
       "      <th>4</th>\n",
       "      <td>4487</td>\n",
       "      <td>24</td>\n",
       "      <td>8646</td>\n",
       "      <td>653</td>\n",
       "      <td>24</td>\n",
       "      <td>0</td>\n",
       "      <td>6081</td>\n",
       "      <td>37</td>\n",
       "      <td>101</td>\n",
       "      <td>2</td>\n",
       "      <td>...</td>\n",
       "      <td>1</td>\n",
       "      <td>1</td>\n",
       "      <td>0</td>\n",
       "      <td>0</td>\n",
       "      <td>46665.0</td>\n",
       "      <td>25000.0</td>\n",
       "      <td>12500.0</td>\n",
       "      <td>0</td>\n",
       "      <td>0</td>\n",
       "      <td>1.8666</td>\n",
       "    </tr>\n",
       "  </tbody>\n",
       "</table>\n",
       "<p>5 rows × 24 columns</p>\n",
       "</div>"
      ],
      "text/plain": [
       "   City  State    Zip  Bank  BankState  NAICS  ApprovalDate  ApprovalFY  Term  \\\n",
       "0  6765      9   3772  2372          8      0          1585          41   130   \n",
       "1  7382     44  11442  2783         45      0          5299          41    33   \n",
       "2  4670      4  12029   210         27      0          4868          33    60   \n",
       "3  4628     48   6842   168         50      0           322          25   160   \n",
       "4  4487     24   8646   653         24      0          6081          37   101   \n",
       "\n",
       "   NoEmp  ...  UrbanRural  RevLineCr  LowDoc  DisbursementDate  \\\n",
       "0     25  ...           1          0       0                 0   \n",
       "1      6  ...           1          0       0                 0   \n",
       "2      1  ...           1          1       0                 0   \n",
       "3      1  ...           0          0       0                 0   \n",
       "4      2  ...           1          1       0                 0   \n",
       "\n",
       "   DisbursementGross     GrAppv   SBA_Appv  ChargeOff  Recession   Ratio  \n",
       "0          2000000.0  2000000.0  1500000.0          0          0  1.0000  \n",
       "1            17000.0    17000.0    17000.0          1          0  1.0000  \n",
       "2            17000.0    17000.0     8500.0          0          0  1.0000  \n",
       "3           137000.0   137000.0   123300.0          0          0  1.0000  \n",
       "4            46665.0    25000.0    12500.0          0          0  1.8666  \n",
       "\n",
       "[5 rows x 24 columns]"
      ]
     },
     "execution_count": 99,
     "metadata": {},
     "output_type": "execute_result"
    }
   ],
   "source": [
    "#Reformatting numeric columns and datetime columns\n",
    "categorical_features_indices = ['City', 'State', 'Zip', 'Bank', 'BankState', 'NAICS', 'ApprovalDate', 'ApprovalFY', \n",
    "                                'NewExist', 'FranchiseCode', 'UrbanRural', 'RevLineCr', 'LowDoc', 'DisbursementDate', 'Recession']\n",
    "\n",
    "NAICS_TO_INDUSTRY = {\n",
    "    '11': 'AGS',\n",
    "    '21': 'MINING',\n",
    "    '22': 'UTILITIES',\n",
    "    '23': 'CONSTRUCTION',\n",
    "    '31': 'MANUFACTURING',\n",
    "    '32': 'MANUFACTURING',\n",
    "    '33': 'MANUFACTURING',\n",
    "    '42': 'WHOLESALE_TRADE',\n",
    "    '44': 'RETAIL_TRADE',\n",
    "    '45': 'RETAIL_TRADE',\n",
    "    '48': 'TRANSPORTATION_WAREHOUSING',\n",
    "    '49': 'TRANSPORTATION_WAREHOUSING',\n",
    "    '51': 'INFORMATION',\n",
    "    '52': 'FINANCE_INSURANCE',\n",
    "    '53': 'REAL_ESTATE',\n",
    "    '54': 'SERVICES',\n",
    "    '55': 'MANAGEMENT',\n",
    "    '56': 'ADMIN',\n",
    "    '61': 'EDU',\n",
    "    '62': 'HEALTHCARE',\n",
    "    '71': 'ENTERTAINMENT',\n",
    "    '72': 'ACCOMMODATION_FOOD',\n",
    "    '81': 'OTHER_SERVICES',\n",
    "    '92': 'PUBLIC_ADMIN'\n",
    "}\n",
    "\n",
    "RECESSION_PERIODS = [[date(1990, 7, 1), date(1991, 3, 1)],\n",
    "                     [date(2001, 3, 1), date(2001, 11, 1)],\n",
    "                     [date(2007, 12, 1), date(2009, 6, 1)]]\n",
    "\n",
    "\n",
    "def with_in_recession(row):\n",
    "    # load is labeled as 'Y' for Recession if the load is active for at least a month during the Recession time frame\n",
    "    try:\n",
    "        raw_disbursement_date = str(row['DisbursementDate'])\n",
    "        if not pd.isnull(raw_disbursement_date):\n",
    "            disbursement_date = datetime.strptime(raw_disbursement_date.strip(), '%d-%b-%y').date()\n",
    "            term = int(row['Term']) if not pd.isnull(row['Term']) else 0\n",
    "            recession = False\n",
    "            for period in RECESSION_PERIODS:\n",
    "#                 if period[0] <= disbursement_date + timedelta(days=term*30) <= period[1]:\n",
    "                if (disbursement_date <= period[0] and\n",
    "                    period[0] + timedelta(days=30) <= disbursement_date + timedelta(days=term*30)) or \\\n",
    "                        (period[0] <= disbursement_date <= period[1] and\n",
    "                         disbursement_date + timedelta(days=30) <= period[1]):\n",
    "                    recession = True\n",
    "                    break\n",
    "            return 'Y' if recession else 'N'\n",
    "        else:\n",
    "            return 'N'\n",
    "    except:\n",
    "        return 'N'\n",
    "\n",
    "def fill_disbursement_date(row):\n",
    "    try:\n",
    "        if pd.isnull(row['DisbursementDate']) and not pd.isnull(row['ApprovalDate']):\n",
    "            return row['ApprovalDate']\n",
    "        else:\n",
    "            return ''\n",
    "    except:\n",
    "        return ''\n",
    "    \n",
    "\n",
    "def data_transformation(records):\n",
    "    # existing columns\n",
    "    records['Zip'] = records['Zip'].apply(lambda x: str(x))\n",
    "    records['Bank'] = records['Bank'].apply(lambda x: 'Unknown' if pd.isnull(x) else x)\n",
    "    records['BankState'] = records['BankState'].apply(lambda x: 'Unknown' if pd.isnull(x) else x)\n",
    "    records[\"NAICS\"] = records['NAICS'].apply(lambda x: NAICS_TO_INDUSTRY.get(str(x)[0:2], 'NONE') if len(str(x)) >= 2 else 'NONE')\n",
    "    records[\"ApprovalFY\"] = records['ApprovalFY'].apply(lambda x: str(x).replace('A', '').strip() if re.match(r'^\\d{4}A$', str(x).strip()) else x)\n",
    "    records['FranchiseCode'] = records['FranchiseCode'].apply(lambda x: 'N' if x in ['0', '1', 0, 1] else 'Y')\n",
    "    records['NewExist'] = records['NewExist'].apply(lambda x: str(x) if not pd.isnull(x) else '0.0')\n",
    "    records['DisbursementGross'] = records['DisbursementGross'].apply(lambda x: float(str(x).replace('$', '').replace(',', '').strip()))\n",
    "    records['GrAppv'] = records['GrAppv'].apply(lambda x: float(str(x).replace('$', '').replace(',', '').strip()))\n",
    "    records['SBA_Appv'] = records['SBA_Appv'].apply(lambda x: float(str(x).replace('$', '').replace(',', '').strip()))\n",
    "    records['LowDoc'] = records['LowDoc'].apply(lambda x: 'Undefined' if pd.isnull(x) or str(x).strip() not in ('Y', 'N') else x)\n",
    "    records['DisbursementDate'] = records.apply(fill_disbursement_date, axis=1)\n",
    "    records['RevLineCr'] = records['RevLineCr'].map({'Y': 'Y', 'N': 'N',  \n",
    "                                                     '0': 'N', 0: 'N', 'T': 'Y', np.nan: 'N'})\n",
    "    \n",
    "    # new columns\n",
    "    records['Recession'] = records.apply(with_in_recession, axis=1)\n",
    "    records['Ratio'] = records['DisbursementGross'] / records['GrAppv']\n",
    "    \n",
    "    return records\n",
    "records = data_transformation(records)\n",
    "\n",
    "for col in records:\n",
    "    dt = records[col].dtype \n",
    "    if dt == int or dt == float:\n",
    "        records[col].fillna(0, inplace=True)\n",
    "    else:\n",
    "        records[col].fillna(\"\", inplace=True)\n",
    "\n",
    "\n",
    "def cat_feature_encoding(records):\n",
    "    label_encoder = LabelEncoder()\n",
    "#     one_hot_encoder = OneHotEncoder(sparse=False, categories='auto')\n",
    "    for col in categorical_features_indices:\n",
    "        feature = label_encoder.fit_transform(records[col].apply(lambda x: str(x)))\n",
    "#         feature = feature.reshape(records.shape[0], 1)\n",
    "        records[col] = feature\n",
    "    return records\n",
    "\n",
    "\n",
    "records = cat_feature_encoding(data_transformation(records))\n",
    "records.reset_index(drop=True, inplace=True)\n",
    "records.head()"
   ]
  },
  {
   "cell_type": "code",
   "execution_count": 6,
   "metadata": {},
   "outputs": [],
   "source": [
    "# records[ (records['Ratio']> 1.0) & (records.RevLineCr == 'N' )]"
   ]
  },
  {
   "cell_type": "code",
   "execution_count": 7,
   "metadata": {},
   "outputs": [
    {
     "data": {
      "text/plain": [
       "<matplotlib.axes._subplots.AxesSubplot at 0x7ff25bad33a0>"
      ]
     },
     "execution_count": 7,
     "metadata": {},
     "output_type": "execute_result"
    },
    {
     "data": {
      "image/png": "[encoded data removed]",
      "text/plain": [
       "<Figure size 432x288 with 1 Axes>"
      ]
     },
     "metadata": {
      "needs_background": "light"
     },
     "output_type": "display_data"
    }
   ],
   "source": [
    "sb.boxplot(x=records['Ratio'])"
   ]
  },
  {
   "cell_type": "code",
   "execution_count": 5,
   "metadata": {},
   "outputs": [
    {
     "data": {
      "text/plain": [
       "<seaborn.matrix.ClusterGrid at 0x7fca6747fc88>"
      ]
     },
     "execution_count": 5,
     "metadata": {},
     "output_type": "execute_result"
    },
    {
     "data": {
      "image/png": "[encoded data removed]",
      "text/plain": [
       "<Figure size 720x720 with 4 Axes>"
      ]
     },
     "metadata": {
      "needs_background": "light"
     },
     "output_type": "display_data"
    }
   ],
   "source": [
    "sb.clustermap(records.corr(), annot=True)"
   ]
  },
  {
   "cell_type": "code",
   "execution_count": 6,
   "metadata": {},
   "outputs": [
    {
     "name": "stdout",
     "output_type": "stream",
     "text": [
      "   Recession  ChargeOff\n",
      "3          Y          0\n",
      "8          Y          0\n",
      "13         Y          1\n",
      "15         Y          0\n",
      "16         Y          1\n"
     ]
    },
    {
     "data": {
      "text/plain": [
       "<AxesSubplot:xlabel='ChargeOff', ylabel='count'>"
      ]
     },
     "execution_count": 6,
     "metadata": {},
     "output_type": "execute_result"
    },
    {
     "data": {
      "image/png": "[encoded data removed]",
      "text/plain": [
       "<Figure size 432x288 with 1 Axes>"
      ]
     },
     "metadata": {
      "needs_background": "light"
     },
     "output_type": "display_data"
    }
   ],
   "source": [
    "default_records = pd.DataFrame()\n",
    "default_records['Recession'] = records.query('Recession == \"Y\"')['Recession']\n",
    "default_records['ChargeOff'] = records.query('Recession == \"Y\"')['ChargeOff']\n",
    "print(default_records.head())\n",
    "sb.countplot(x='ChargeOff', data=default_records)"
   ]
  },
  {
   "cell_type": "code",
   "execution_count": 100,
   "metadata": {},
   "outputs": [],
   "source": [
    "x1 = records.drop(columns='ChargeOff')\n",
    "y1 = records['ChargeOff']\n",
    "x_train, x_test, y_train, y_test = train_test_split(x1, y1, test_size = 0.25, random_state=0)"
   ]
  },
  {
   "cell_type": "markdown",
   "metadata": {},
   "source": [
    "### Train model\n",
    "- the choice of categofical features matters"
   ]
  },
  {
   "cell_type": "code",
   "execution_count": 107,
   "metadata": {},
   "outputs": [
    {
     "name": "stdout",
     "output_type": "stream",
     "text": [
      "n_estimators: 100, accurancy: 92.86\n",
      "n_estimators: 105, accurancy: 92.99\n",
      "n_estimators: 110, accurancy: 92.98\n",
      "n_estimators: 115, accurancy: 92.98\n",
      "n_estimators: 120, accurancy: 92.95\n",
      "n_estimators: 125, accurancy: 92.91\n",
      "n_estimators: 130, accurancy: 92.88\n",
      "n_estimators: 135, accurancy: 92.83\n",
      "n_estimators: 140, accurancy: 92.82\n",
      "n_estimators: 145, accurancy: 92.84\n",
      "n_estimators: 150, accurancy: 92.89\n",
      "n_estimators: 155, accurancy: 92.8\n",
      "n_estimators: 160, accurancy: 92.82\n",
      "n_estimators: 165, accurancy: 92.89\n",
      "n_estimators: 170, accurancy: 92.9\n",
      "n_estimators: 175, accurancy: 92.96\n",
      "n_estimators: 180, accurancy: 92.93\n",
      "n_estimators: 185, accurancy: 92.93\n",
      "n_estimators: 190, accurancy: 92.94\n",
      "n_estimators: 195, accurancy: 92.99\n",
      "n_estimators: 200, accurancy: 93.09\n",
      "n_estimators: 205, accurancy: 93.11\n",
      "n_estimators: 210, accurancy: 93.18\n",
      "n_estimators: 215, accurancy: 93.14\n",
      "n_estimators: 220, accurancy: 93.18\n",
      "n_estimators: 225, accurancy: 93.17\n",
      "n_estimators: 230, accurancy: 93.14\n",
      "n_estimators: 235, accurancy: 93.15\n",
      "n_estimators: 240, accurancy: 93.18\n",
      "n_estimators: 245, accurancy: 93.14\n",
      "n_estimators: 250, accurancy: 93.14\n",
      "n_estimators: 255, accurancy: 93.11\n",
      "n_estimators: 260, accurancy: 93.16\n",
      "n_estimators: 265, accurancy: 93.17\n",
      "n_estimators: 270, accurancy: 93.18\n",
      "n_estimators: 275, accurancy: 93.04\n",
      "n_estimators: 280, accurancy: 93.09\n",
      "n_estimators: 285, accurancy: 93.12\n",
      "n_estimators: 290, accurancy: 93.17\n",
      "n_estimators: 295, accurancy: 93.14\n",
      "n_estimators: 300, accurancy: 93.13\n"
     ]
    }
   ],
   "source": [
    "d = {}\n",
    "for i in range(100, 305, 5):\n",
    "    model = xgb.XGBClassifier(objective='binary:logistic', \n",
    "                          n_estimators=i,\n",
    "                          learning_rate=0.20914331424002888)\n",
    "    model.fit(x_train, y_train)\n",
    "    preds = model.predict(x_test)\n",
    "    acc = round(accuracy_score(y_test, preds) * 100, 2)\n",
    "    print(f'n_estimators: {i}, accurancy: {acc}')\n",
    "    d[i] = acc"
   ]
  },
  {
   "cell_type": "code",
   "execution_count": null,
   "metadata": {},
   "outputs": [],
   "source": [
    "next(((k,v) for k, v in d.items() if v == max(d.values())), None)"
   ]
  },
  {
   "cell_type": "code",
   "execution_count": 106,
   "metadata": {},
   "outputs": [
    {
     "name": "stdout",
     "output_type": "stream",
     "text": [
      "prediction with the best model: accuracy: 92.83, weighted F1: 92.83\n"
     ]
    }
   ],
   "source": [
    "# run with xgboost\n",
    "d_train = xgb.DMatrix(x_train, label=y_train)\n",
    "d_test = xgb.DMatrix(x_test, label=y_test)\n",
    "model = xgb.XGBClassifier(objective='binary:logistic', \n",
    "                          n_estimators=135,\n",
    "                          learning_rate=0.20914331424002888)\n",
    "model.fit(x_train, y_train)\n",
    "preds = model.predict(x_test)\n",
    "f1 = round(f1_score(y_test, preds, average='weighted') * 100, 2)\n",
    "acc = round(accuracy_score(y_test, preds) * 100, 2)\n",
    "\n",
    "print(f\"prediction with the best model: accuracy: {acc}, weighted F1: {f1}\")"
   ]
  },
  {
   "cell_type": "markdown",
   "metadata": {},
   "source": [
    "### Train model with best params"
   ]
  },
  {
   "cell_type": "code",
   "execution_count": 79,
   "metadata": {},
   "outputs": [
    {
     "ename": "KeyboardInterrupt",
     "evalue": "",
     "output_type": "error",
     "traceback": [
      "\u001b[0;31m-------------------------------------------------------------------------\u001b[0m",
      "\u001b[0;31mKeyboardInterrupt\u001b[0m                       Traceback (most recent call last)",
      "\u001b[0;32m<ipython-input-79-f607cb7e0598>\u001b[0m in \u001b[0;36m<module>\u001b[0;34m\u001b[0m\n\u001b[1;32m      9\u001b[0m                               },\n\u001b[1;32m     10\u001b[0m                    cv=10, scoring='accuracy', verbose=0)\n\u001b[0;32m---> 11\u001b[0;31m \u001b[0mbest_model\u001b[0m \u001b[0;34m=\u001b[0m \u001b[0mgsc\u001b[0m\u001b[0;34m.\u001b[0m\u001b[0mfit\u001b[0m\u001b[0;34m(\u001b[0m\u001b[0mx_train\u001b[0m\u001b[0;34m,\u001b[0m \u001b[0my_train\u001b[0m\u001b[0;34m)\u001b[0m\u001b[0;34m\u001b[0m\u001b[0m\n\u001b[0m",
      "\u001b[0;32m~/NUS/CS5224_Cloud_Computing/project/app_server/p_virenv/lib/python3.6/site-packages/sklearn/utils/validation.py\u001b[0m in \u001b[0;36minner_f\u001b[0;34m(*args, **kwargs)\u001b[0m\n\u001b[1;32m     70\u001b[0m                           FutureWarning)\n\u001b[1;32m     71\u001b[0m         \u001b[0mkwargs\u001b[0m\u001b[0;34m.\u001b[0m\u001b[0mupdate\u001b[0m\u001b[0;34m(\u001b[0m\u001b[0;34m{\u001b[0m\u001b[0mk\u001b[0m\u001b[0;34m:\u001b[0m \u001b[0marg\u001b[0m \u001b[0;32mfor\u001b[0m \u001b[0mk\u001b[0m\u001b[0;34m,\u001b[0m \u001b[0marg\u001b[0m \u001b[0;32min\u001b[0m \u001b[0mzip\u001b[0m\u001b[0;34m(\u001b[0m\u001b[0msig\u001b[0m\u001b[0;34m.\u001b[0m\u001b[0mparameters\u001b[0m\u001b[0;34m,\u001b[0m \u001b[0margs\u001b[0m\u001b[0;34m)\u001b[0m\u001b[0;34m}\u001b[0m\u001b[0;34m)\u001b[0m\u001b[0;34m\u001b[0m\u001b[0m\n\u001b[0;32m---> 72\u001b[0;31m         \u001b[0;32mreturn\u001b[0m \u001b[0mf\u001b[0m\u001b[0;34m(\u001b[0m\u001b[0;34m**\u001b[0m\u001b[0mkwargs\u001b[0m\u001b[0;34m)\u001b[0m\u001b[0;34m\u001b[0m\u001b[0m\n\u001b[0m\u001b[1;32m     73\u001b[0m     \u001b[0;32mreturn\u001b[0m \u001b[0minner_f\u001b[0m\u001b[0;34m\u001b[0m\u001b[0m\n\u001b[1;32m     74\u001b[0m \u001b[0;34m\u001b[0m\u001b[0m\n",
      "\u001b[0;32m~/NUS/CS5224_Cloud_Computing/project/app_server/p_virenv/lib/python3.6/site-packages/sklearn/model_selection/_search.py\u001b[0m in \u001b[0;36mfit\u001b[0;34m(self, X, y, groups, **fit_params)\u001b[0m\n\u001b[1;32m    734\u001b[0m                 \u001b[0;32mreturn\u001b[0m \u001b[0mresults\u001b[0m\u001b[0;34m\u001b[0m\u001b[0m\n\u001b[1;32m    735\u001b[0m \u001b[0;34m\u001b[0m\u001b[0m\n\u001b[0;32m--> 736\u001b[0;31m             \u001b[0mself\u001b[0m\u001b[0;34m.\u001b[0m\u001b[0m_run_search\u001b[0m\u001b[0;34m(\u001b[0m\u001b[0mevaluate_candidates\u001b[0m\u001b[0;34m)\u001b[0m\u001b[0;34m\u001b[0m\u001b[0m\n\u001b[0m\u001b[1;32m    737\u001b[0m \u001b[0;34m\u001b[0m\u001b[0m\n\u001b[1;32m    738\u001b[0m         \u001b[0;31m# For multi-metric evaluation, store the best_index_, best_params_ and\u001b[0m\u001b[0;34m\u001b[0m\u001b[0;34m\u001b[0m\u001b[0m\n",
      "\u001b[0;32m~/NUS/CS5224_Cloud_Computing/project/app_server/p_virenv/lib/python3.6/site-packages/sklearn/model_selection/_search.py\u001b[0m in \u001b[0;36m_run_search\u001b[0;34m(self, evaluate_candidates)\u001b[0m\n\u001b[1;32m   1186\u001b[0m     \u001b[0;32mdef\u001b[0m \u001b[0m_run_search\u001b[0m\u001b[0;34m(\u001b[0m\u001b[0mself\u001b[0m\u001b[0;34m,\u001b[0m \u001b[0mevaluate_candidates\u001b[0m\u001b[0;34m)\u001b[0m\u001b[0;34m:\u001b[0m\u001b[0;34m\u001b[0m\u001b[0m\n\u001b[1;32m   1187\u001b[0m         \u001b[0;34m\"\"\"Search all candidates in param_grid\"\"\"\u001b[0m\u001b[0;34m\u001b[0m\u001b[0m\n\u001b[0;32m-> 1188\u001b[0;31m         \u001b[0mevaluate_candidates\u001b[0m\u001b[0;34m(\u001b[0m\u001b[0mParameterGrid\u001b[0m\u001b[0;34m(\u001b[0m\u001b[0mself\u001b[0m\u001b[0;34m.\u001b[0m\u001b[0mparam_grid\u001b[0m\u001b[0;34m)\u001b[0m\u001b[0;34m)\u001b[0m\u001b[0;34m\u001b[0m\u001b[0m\n\u001b[0m\u001b[1;32m   1189\u001b[0m \u001b[0;34m\u001b[0m\u001b[0m\n\u001b[1;32m   1190\u001b[0m \u001b[0;34m\u001b[0m\u001b[0m\n",
      "\u001b[0;32m~/NUS/CS5224_Cloud_Computing/project/app_server/p_virenv/lib/python3.6/site-packages/sklearn/model_selection/_search.py\u001b[0m in \u001b[0;36mevaluate_candidates\u001b[0;34m(candidate_params)\u001b[0m\n\u001b[1;32m    713\u001b[0m                                \u001b[0;32mfor\u001b[0m \u001b[0mparameters\u001b[0m\u001b[0;34m,\u001b[0m \u001b[0;34m(\u001b[0m\u001b[0mtrain\u001b[0m\u001b[0;34m,\u001b[0m \u001b[0mtest\u001b[0m\u001b[0;34m)\u001b[0m\u001b[0;34m\u001b[0m\u001b[0m\n\u001b[1;32m    714\u001b[0m                                in product(candidate_params,\n\u001b[0;32m--> 715\u001b[0;31m                                           cv.split(X, y, groups)))\n\u001b[0m\u001b[1;32m    716\u001b[0m \u001b[0;34m\u001b[0m\u001b[0m\n\u001b[1;32m    717\u001b[0m                 \u001b[0;32mif\u001b[0m \u001b[0mlen\u001b[0m\u001b[0;34m(\u001b[0m\u001b[0mout\u001b[0m\u001b[0;34m)\u001b[0m \u001b[0;34m<\u001b[0m \u001b[0;36m1\u001b[0m\u001b[0;34m:\u001b[0m\u001b[0;34m\u001b[0m\u001b[0m\n",
      "\u001b[0;32m~/NUS/CS5224_Cloud_Computing/project/app_server/p_virenv/lib/python3.6/site-packages/joblib/parallel.py\u001b[0m in \u001b[0;36m__call__\u001b[0;34m(self, iterable)\u001b[0m\n\u001b[1;32m   1030\u001b[0m                 \u001b[0mself\u001b[0m\u001b[0;34m.\u001b[0m\u001b[0m_iterating\u001b[0m \u001b[0;34m=\u001b[0m \u001b[0mself\u001b[0m\u001b[0;34m.\u001b[0m\u001b[0m_original_iterator\u001b[0m \u001b[0;32mis\u001b[0m \u001b[0;32mnot\u001b[0m \u001b[0;32mNone\u001b[0m\u001b[0;34m\u001b[0m\u001b[0m\n\u001b[1;32m   1031\u001b[0m \u001b[0;34m\u001b[0m\u001b[0m\n\u001b[0;32m-> 1032\u001b[0;31m             \u001b[0;32mwhile\u001b[0m \u001b[0mself\u001b[0m\u001b[0;34m.\u001b[0m\u001b[0mdispatch_one_batch\u001b[0m\u001b[0;34m(\u001b[0m\u001b[0miterator\u001b[0m\u001b[0;34m)\u001b[0m\u001b[0;34m:\u001b[0m\u001b[0;34m\u001b[0m\u001b[0m\n\u001b[0m\u001b[1;32m   1033\u001b[0m                 \u001b[0;32mpass\u001b[0m\u001b[0;34m\u001b[0m\u001b[0m\n\u001b[1;32m   1034\u001b[0m \u001b[0;34m\u001b[0m\u001b[0m\n",
      "\u001b[0;32m~/NUS/CS5224_Cloud_Computing/project/app_server/p_virenv/lib/python3.6/site-packages/joblib/parallel.py\u001b[0m in \u001b[0;36mdispatch_one_batch\u001b[0;34m(self, iterator)\u001b[0m\n\u001b[1;32m    845\u001b[0m                 \u001b[0;32mreturn\u001b[0m \u001b[0;32mFalse\u001b[0m\u001b[0;34m\u001b[0m\u001b[0m\n\u001b[1;32m    846\u001b[0m             \u001b[0;32melse\u001b[0m\u001b[0;34m:\u001b[0m\u001b[0;34m\u001b[0m\u001b[0m\n\u001b[0;32m--> 847\u001b[0;31m                 \u001b[0mself\u001b[0m\u001b[0;34m.\u001b[0m\u001b[0m_dispatch\u001b[0m\u001b[0;34m(\u001b[0m\u001b[0mtasks\u001b[0m\u001b[0;34m)\u001b[0m\u001b[0;34m\u001b[0m\u001b[0m\n\u001b[0m\u001b[1;32m    848\u001b[0m                 \u001b[0;32mreturn\u001b[0m \u001b[0;32mTrue\u001b[0m\u001b[0;34m\u001b[0m\u001b[0m\n\u001b[1;32m    849\u001b[0m \u001b[0;34m\u001b[0m\u001b[0m\n",
      "\u001b[0;32m~/NUS/CS5224_Cloud_Computing/project/app_server/p_virenv/lib/python3.6/site-packages/joblib/parallel.py\u001b[0m in \u001b[0;36m_dispatch\u001b[0;34m(self, batch)\u001b[0m\n\u001b[1;32m    763\u001b[0m         \u001b[0;32mwith\u001b[0m \u001b[0mself\u001b[0m\u001b[0;34m.\u001b[0m\u001b[0m_lock\u001b[0m\u001b[0;34m:\u001b[0m\u001b[0;34m\u001b[0m\u001b[0m\n\u001b[1;32m    764\u001b[0m             \u001b[0mjob_idx\u001b[0m \u001b[0;34m=\u001b[0m \u001b[0mlen\u001b[0m\u001b[0;34m(\u001b[0m\u001b[0mself\u001b[0m\u001b[0;34m.\u001b[0m\u001b[0m_jobs\u001b[0m\u001b[0;34m)\u001b[0m\u001b[0;34m\u001b[0m\u001b[0m\n\u001b[0;32m--> 765\u001b[0;31m             \u001b[0mjob\u001b[0m \u001b[0;34m=\u001b[0m \u001b[0mself\u001b[0m\u001b[0;34m.\u001b[0m\u001b[0m_backend\u001b[0m\u001b[0;34m.\u001b[0m\u001b[0mapply_async\u001b[0m\u001b[0;34m(\u001b[0m\u001b[0mbatch\u001b[0m\u001b[0;34m,\u001b[0m \u001b[0mcallback\u001b[0m\u001b[0;34m=\u001b[0m\u001b[0mcb\u001b[0m\u001b[0;34m)\u001b[0m\u001b[0;34m\u001b[0m\u001b[0m\n\u001b[0m\u001b[1;32m    766\u001b[0m             \u001b[0;31m# A job can complete so quickly than its callback is\u001b[0m\u001b[0;34m\u001b[0m\u001b[0;34m\u001b[0m\u001b[0m\n\u001b[1;32m    767\u001b[0m             \u001b[0;31m# called before we get here, causing self._jobs to\u001b[0m\u001b[0;34m\u001b[0m\u001b[0;34m\u001b[0m\u001b[0m\n",
      "\u001b[0;32m~/NUS/CS5224_Cloud_Computing/project/app_server/p_virenv/lib/python3.6/site-packages/joblib/_parallel_backends.py\u001b[0m in \u001b[0;36mapply_async\u001b[0;34m(self, func, callback)\u001b[0m\n\u001b[1;32m    206\u001b[0m     \u001b[0;32mdef\u001b[0m \u001b[0mapply_async\u001b[0m\u001b[0;34m(\u001b[0m\u001b[0mself\u001b[0m\u001b[0;34m,\u001b[0m \u001b[0mfunc\u001b[0m\u001b[0;34m,\u001b[0m \u001b[0mcallback\u001b[0m\u001b[0;34m=\u001b[0m\u001b[0;32mNone\u001b[0m\u001b[0;34m)\u001b[0m\u001b[0;34m:\u001b[0m\u001b[0;34m\u001b[0m\u001b[0m\n\u001b[1;32m    207\u001b[0m         \u001b[0;34m\"\"\"Schedule a func to be run\"\"\"\u001b[0m\u001b[0;34m\u001b[0m\u001b[0m\n\u001b[0;32m--> 208\u001b[0;31m         \u001b[0mresult\u001b[0m \u001b[0;34m=\u001b[0m \u001b[0mImmediateResult\u001b[0m\u001b[0;34m(\u001b[0m\u001b[0mfunc\u001b[0m\u001b[0;34m)\u001b[0m\u001b[0;34m\u001b[0m\u001b[0m\n\u001b[0m\u001b[1;32m    209\u001b[0m         \u001b[0;32mif\u001b[0m \u001b[0mcallback\u001b[0m\u001b[0;34m:\u001b[0m\u001b[0;34m\u001b[0m\u001b[0m\n\u001b[1;32m    210\u001b[0m             \u001b[0mcallback\u001b[0m\u001b[0;34m(\u001b[0m\u001b[0mresult\u001b[0m\u001b[0;34m)\u001b[0m\u001b[0;34m\u001b[0m\u001b[0m\n",
      "\u001b[0;32m~/NUS/CS5224_Cloud_Computing/project/app_server/p_virenv/lib/python3.6/site-packages/joblib/_parallel_backends.py\u001b[0m in \u001b[0;36m__init__\u001b[0;34m(self, batch)\u001b[0m\n\u001b[1;32m    570\u001b[0m         \u001b[0;31m# Don't delay the application, to avoid keeping the input\u001b[0m\u001b[0;34m\u001b[0m\u001b[0;34m\u001b[0m\u001b[0m\n\u001b[1;32m    571\u001b[0m         \u001b[0;31m# arguments in memory\u001b[0m\u001b[0;34m\u001b[0m\u001b[0;34m\u001b[0m\u001b[0m\n\u001b[0;32m--> 572\u001b[0;31m         \u001b[0mself\u001b[0m\u001b[0;34m.\u001b[0m\u001b[0mresults\u001b[0m \u001b[0;34m=\u001b[0m \u001b[0mbatch\u001b[0m\u001b[0;34m(\u001b[0m\u001b[0;34m)\u001b[0m\u001b[0;34m\u001b[0m\u001b[0m\n\u001b[0m\u001b[1;32m    573\u001b[0m \u001b[0;34m\u001b[0m\u001b[0m\n\u001b[1;32m    574\u001b[0m     \u001b[0;32mdef\u001b[0m \u001b[0mget\u001b[0m\u001b[0;34m(\u001b[0m\u001b[0mself\u001b[0m\u001b[0;34m)\u001b[0m\u001b[0;34m:\u001b[0m\u001b[0;34m\u001b[0m\u001b[0m\n",
      "\u001b[0;32m~/NUS/CS5224_Cloud_Computing/project/app_server/p_virenv/lib/python3.6/site-packages/joblib/parallel.py\u001b[0m in \u001b[0;36m__call__\u001b[0;34m(self)\u001b[0m\n\u001b[1;32m    251\u001b[0m         \u001b[0;32mwith\u001b[0m \u001b[0mparallel_backend\u001b[0m\u001b[0;34m(\u001b[0m\u001b[0mself\u001b[0m\u001b[0;34m.\u001b[0m\u001b[0m_backend\u001b[0m\u001b[0;34m,\u001b[0m \u001b[0mn_jobs\u001b[0m\u001b[0;34m=\u001b[0m\u001b[0mself\u001b[0m\u001b[0;34m.\u001b[0m\u001b[0m_n_jobs\u001b[0m\u001b[0;34m)\u001b[0m\u001b[0;34m:\u001b[0m\u001b[0;34m\u001b[0m\u001b[0m\n\u001b[1;32m    252\u001b[0m             return [func(*args, **kwargs)\n\u001b[0;32m--> 253\u001b[0;31m                     for func, args, kwargs in self.items]\n\u001b[0m\u001b[1;32m    254\u001b[0m \u001b[0;34m\u001b[0m\u001b[0m\n\u001b[1;32m    255\u001b[0m     \u001b[0;32mdef\u001b[0m \u001b[0m__reduce__\u001b[0m\u001b[0;34m(\u001b[0m\u001b[0mself\u001b[0m\u001b[0;34m)\u001b[0m\u001b[0;34m:\u001b[0m\u001b[0;34m\u001b[0m\u001b[0m\n",
      "\u001b[0;32m~/NUS/CS5224_Cloud_Computing/project/app_server/p_virenv/lib/python3.6/site-packages/joblib/parallel.py\u001b[0m in \u001b[0;36m<listcomp>\u001b[0;34m(.0)\u001b[0m\n\u001b[1;32m    251\u001b[0m         \u001b[0;32mwith\u001b[0m \u001b[0mparallel_backend\u001b[0m\u001b[0;34m(\u001b[0m\u001b[0mself\u001b[0m\u001b[0;34m.\u001b[0m\u001b[0m_backend\u001b[0m\u001b[0;34m,\u001b[0m \u001b[0mn_jobs\u001b[0m\u001b[0;34m=\u001b[0m\u001b[0mself\u001b[0m\u001b[0;34m.\u001b[0m\u001b[0m_n_jobs\u001b[0m\u001b[0;34m)\u001b[0m\u001b[0;34m:\u001b[0m\u001b[0;34m\u001b[0m\u001b[0m\n\u001b[1;32m    252\u001b[0m             return [func(*args, **kwargs)\n\u001b[0;32m--> 253\u001b[0;31m                     for func, args, kwargs in self.items]\n\u001b[0m\u001b[1;32m    254\u001b[0m \u001b[0;34m\u001b[0m\u001b[0m\n\u001b[1;32m    255\u001b[0m     \u001b[0;32mdef\u001b[0m \u001b[0m__reduce__\u001b[0m\u001b[0;34m(\u001b[0m\u001b[0mself\u001b[0m\u001b[0;34m)\u001b[0m\u001b[0;34m:\u001b[0m\u001b[0;34m\u001b[0m\u001b[0m\n",
      "\u001b[0;32m~/NUS/CS5224_Cloud_Computing/project/app_server/p_virenv/lib/python3.6/site-packages/sklearn/model_selection/_validation.py\u001b[0m in \u001b[0;36m_fit_and_score\u001b[0;34m(estimator, X, y, scorer, train, test, verbose, parameters, fit_params, return_train_score, return_parameters, return_n_test_samples, return_times, return_estimator, error_score)\u001b[0m\n\u001b[1;32m    529\u001b[0m             \u001b[0mestimator\u001b[0m\u001b[0;34m.\u001b[0m\u001b[0mfit\u001b[0m\u001b[0;34m(\u001b[0m\u001b[0mX_train\u001b[0m\u001b[0;34m,\u001b[0m \u001b[0;34m**\u001b[0m\u001b[0mfit_params\u001b[0m\u001b[0;34m)\u001b[0m\u001b[0;34m\u001b[0m\u001b[0m\n\u001b[1;32m    530\u001b[0m         \u001b[0;32melse\u001b[0m\u001b[0;34m:\u001b[0m\u001b[0;34m\u001b[0m\u001b[0m\n\u001b[0;32m--> 531\u001b[0;31m             \u001b[0mestimator\u001b[0m\u001b[0;34m.\u001b[0m\u001b[0mfit\u001b[0m\u001b[0;34m(\u001b[0m\u001b[0mX_train\u001b[0m\u001b[0;34m,\u001b[0m \u001b[0my_train\u001b[0m\u001b[0;34m,\u001b[0m \u001b[0;34m**\u001b[0m\u001b[0mfit_params\u001b[0m\u001b[0;34m)\u001b[0m\u001b[0;34m\u001b[0m\u001b[0m\n\u001b[0m\u001b[1;32m    532\u001b[0m \u001b[0;34m\u001b[0m\u001b[0m\n\u001b[1;32m    533\u001b[0m     \u001b[0;32mexcept\u001b[0m \u001b[0mException\u001b[0m \u001b[0;32mas\u001b[0m \u001b[0me\u001b[0m\u001b[0;34m:\u001b[0m\u001b[0;34m\u001b[0m\u001b[0m\n",
      "\u001b[0;32m~/NUS/CS5224_Cloud_Computing/project/app_server/p_virenv/lib/python3.6/site-packages/xgboost/sklearn.py\u001b[0m in \u001b[0;36mfit\u001b[0;34m(self, X, y, sample_weight, base_margin, eval_set, eval_metric, early_stopping_rounds, verbose, xgb_model, sample_weight_eval_set, callbacks)\u001b[0m\n\u001b[1;32m    832\u001b[0m                               \u001b[0mevals_result\u001b[0m\u001b[0;34m=\u001b[0m\u001b[0mevals_result\u001b[0m\u001b[0;34m,\u001b[0m \u001b[0mobj\u001b[0m\u001b[0;34m=\u001b[0m\u001b[0mobj\u001b[0m\u001b[0;34m,\u001b[0m \u001b[0mfeval\u001b[0m\u001b[0;34m=\u001b[0m\u001b[0mfeval\u001b[0m\u001b[0;34m,\u001b[0m\u001b[0;34m\u001b[0m\u001b[0m\n\u001b[1;32m    833\u001b[0m                               \u001b[0mverbose_eval\u001b[0m\u001b[0;34m=\u001b[0m\u001b[0mverbose\u001b[0m\u001b[0;34m,\u001b[0m \u001b[0mxgb_model\u001b[0m\u001b[0;34m=\u001b[0m\u001b[0mxgb_model\u001b[0m\u001b[0;34m,\u001b[0m\u001b[0;34m\u001b[0m\u001b[0m\n\u001b[0;32m--> 834\u001b[0;31m                               callbacks=callbacks)\n\u001b[0m\u001b[1;32m    835\u001b[0m \u001b[0;34m\u001b[0m\u001b[0m\n\u001b[1;32m    836\u001b[0m         \u001b[0mself\u001b[0m\u001b[0;34m.\u001b[0m\u001b[0mobjective\u001b[0m \u001b[0;34m=\u001b[0m \u001b[0mxgb_options\u001b[0m\u001b[0;34m[\u001b[0m\u001b[0;34m\"objective\"\u001b[0m\u001b[0;34m]\u001b[0m\u001b[0;34m\u001b[0m\u001b[0m\n",
      "\u001b[0;32m~/NUS/CS5224_Cloud_Computing/project/app_server/p_virenv/lib/python3.6/site-packages/xgboost/training.py\u001b[0m in \u001b[0;36mtrain\u001b[0;34m(params, dtrain, num_boost_round, evals, obj, feval, maximize, early_stopping_rounds, evals_result, verbose_eval, xgb_model, callbacks)\u001b[0m\n\u001b[1;32m    210\u001b[0m                            \u001b[0mevals\u001b[0m\u001b[0;34m=\u001b[0m\u001b[0mevals\u001b[0m\u001b[0;34m,\u001b[0m\u001b[0;34m\u001b[0m\u001b[0m\n\u001b[1;32m    211\u001b[0m                            \u001b[0mobj\u001b[0m\u001b[0;34m=\u001b[0m\u001b[0mobj\u001b[0m\u001b[0;34m,\u001b[0m \u001b[0mfeval\u001b[0m\u001b[0;34m=\u001b[0m\u001b[0mfeval\u001b[0m\u001b[0;34m,\u001b[0m\u001b[0;34m\u001b[0m\u001b[0m\n\u001b[0;32m--> 212\u001b[0;31m                            xgb_model=xgb_model, callbacks=callbacks)\n\u001b[0m\u001b[1;32m    213\u001b[0m \u001b[0;34m\u001b[0m\u001b[0m\n\u001b[1;32m    214\u001b[0m \u001b[0;34m\u001b[0m\u001b[0m\n",
      "\u001b[0;32m~/NUS/CS5224_Cloud_Computing/project/app_server/p_virenv/lib/python3.6/site-packages/xgboost/training.py\u001b[0m in \u001b[0;36m_train_internal\u001b[0;34m(params, dtrain, num_boost_round, evals, obj, feval, xgb_model, callbacks)\u001b[0m\n\u001b[1;32m     73\u001b[0m         \u001b[0;31m# Skip the first update if it is a recovery step.\u001b[0m\u001b[0;34m\u001b[0m\u001b[0;34m\u001b[0m\u001b[0m\n\u001b[1;32m     74\u001b[0m         \u001b[0;32mif\u001b[0m \u001b[0mversion\u001b[0m \u001b[0;34m%\u001b[0m \u001b[0;36m2\u001b[0m \u001b[0;34m==\u001b[0m \u001b[0;36m0\u001b[0m\u001b[0;34m:\u001b[0m\u001b[0;34m\u001b[0m\u001b[0m\n\u001b[0;32m---> 75\u001b[0;31m             \u001b[0mbst\u001b[0m\u001b[0;34m.\u001b[0m\u001b[0mupdate\u001b[0m\u001b[0;34m(\u001b[0m\u001b[0mdtrain\u001b[0m\u001b[0;34m,\u001b[0m \u001b[0mi\u001b[0m\u001b[0;34m,\u001b[0m \u001b[0mobj\u001b[0m\u001b[0;34m)\u001b[0m\u001b[0;34m\u001b[0m\u001b[0m\n\u001b[0m\u001b[1;32m     76\u001b[0m             \u001b[0mbst\u001b[0m\u001b[0;34m.\u001b[0m\u001b[0msave_rabit_checkpoint\u001b[0m\u001b[0;34m(\u001b[0m\u001b[0;34m)\u001b[0m\u001b[0;34m\u001b[0m\u001b[0m\n\u001b[1;32m     77\u001b[0m             \u001b[0mversion\u001b[0m \u001b[0;34m+=\u001b[0m \u001b[0;36m1\u001b[0m\u001b[0;34m\u001b[0m\u001b[0m\n",
      "\u001b[0;32m~/NUS/CS5224_Cloud_Computing/project/app_server/p_virenv/lib/python3.6/site-packages/xgboost/core.py\u001b[0m in \u001b[0;36mupdate\u001b[0;34m(self, dtrain, iteration, fobj)\u001b[0m\n\u001b[1;32m   1159\u001b[0m             _check_call(_LIB.XGBoosterUpdateOneIter(self.handle,\n\u001b[1;32m   1160\u001b[0m                                                     \u001b[0mctypes\u001b[0m\u001b[0;34m.\u001b[0m\u001b[0mc_int\u001b[0m\u001b[0;34m(\u001b[0m\u001b[0miteration\u001b[0m\u001b[0;34m)\u001b[0m\u001b[0;34m,\u001b[0m\u001b[0;34m\u001b[0m\u001b[0m\n\u001b[0;32m-> 1161\u001b[0;31m                                                     dtrain.handle))\n\u001b[0m\u001b[1;32m   1162\u001b[0m         \u001b[0;32melse\u001b[0m\u001b[0;34m:\u001b[0m\u001b[0;34m\u001b[0m\u001b[0m\n\u001b[1;32m   1163\u001b[0m             \u001b[0mpred\u001b[0m \u001b[0;34m=\u001b[0m \u001b[0mself\u001b[0m\u001b[0;34m.\u001b[0m\u001b[0mpredict\u001b[0m\u001b[0;34m(\u001b[0m\u001b[0mdtrain\u001b[0m\u001b[0;34m,\u001b[0m \u001b[0moutput_margin\u001b[0m\u001b[0;34m=\u001b[0m\u001b[0;32mTrue\u001b[0m\u001b[0;34m,\u001b[0m \u001b[0mtraining\u001b[0m\u001b[0;34m=\u001b[0m\u001b[0;32mTrue\u001b[0m\u001b[0;34m)\u001b[0m\u001b[0;34m\u001b[0m\u001b[0m\n",
      "\u001b[0;31mKeyboardInterrupt\u001b[0m: "
     ]
    }
   ],
   "source": [
    "gsc = GridSearchCV(estimator=xgb.XGBClassifier(objective='binary:logistic'),\n",
    "                   param_grid={'n_estimators': [i for i in range(50, 255, 5)],\n",
    "                               'max_depth': [i for i in range(4, 34, 2)],\n",
    "                               'learning_rate': [i for i in np.arange(0.003, 0.3, 0.01)],\n",
    "                               'gamma': [i for i in np.arange(0, 0.55, 0.05)],\n",
    "                               'subsample': [i for i in np.arange(0.2, 1.2, 0.2)],\n",
    "                               'colsample_bytree': [i for i in np.arange(0.2, 1.2, 0.2)],\n",
    "                               'min_child_weight': [i for i in range(1, 11, 1)]\n",
    "                              },\n",
    "                   cv=10, scoring='accuracy', verbose=0)\n",
    "best_model = gsc.fit(x_train, y_train)"
   ]
  },
  {
   "cell_type": "code",
   "execution_count": 104,
   "metadata": {},
   "outputs": [],
   "source": [
    "def hyperopt_objective(params):\n",
    "    model = xgb.XGBClassifier(n_estimators = params['n_estimators'],\n",
    "#                               max_depth = int(params['max_depth']),\n",
    "                              learning_rate = params['learning_rate'],\n",
    "#                               gamma = params['gamma'],\n",
    "#                               min_child_weight = params['min_child_weight'],\n",
    "#                               subsample = params['subsample'],\n",
    "#                               colsample_bytree = params['colsample_bytree']\n",
    "                             )\n",
    "    \n",
    "    model.fit(x_train, y_train)\n",
    "\n",
    "    accuracies = cross_val_score(estimator=model, X=x_train, y=y_train, cv=10)\n",
    "    CrossValMean = accuracies.mean()\n",
    "\n",
    "    return{'loss':1-CrossValMean, 'status': hyperopt.STATUS_OK }"
   ]
  },
  {
   "cell_type": "code",
   "execution_count": 105,
   "metadata": {},
   "outputs": [
    {
     "name": "stdout",
     "output_type": "stream",
     "text": [
      "100%|██████████| 50/50 [1:09:03<00:00, 82.87s/trial, best loss: 0.06954666666666642] \n",
      "{'learning_rate': 0.20914331424002888, 'n_estimators': 23}\n"
     ]
    }
   ],
   "source": [
    "params_space = {\n",
    "    'learning_rate': hyperopt.hp.uniform('learning_rate', 1e-3, 5e-1),\n",
    "#     'max_depth' : hyperopt.hp.choice('max_depth', range(5, 30, 1)),\n",
    "    'n_estimators' : hyperopt.hp.choice('n_estimators', range(20, 205, 5)),\n",
    "#     'gamma' : hyperopt.hp.quniform('gamma', 0, 0.50, 0.01),\n",
    "#     'min_child_weight' : hyperopt.hp.quniform('min_child_weight', 1, 10, 1),\n",
    "#     'subsample' : hyperopt.hp.quniform('subsample', 0.1, 1, 0.01),\n",
    "#     'colsample_bytree' : hyperopt.hp.quniform('colsample_bytree', 0.1, 1.0, 0.01)    \n",
    "}\n",
    "\n",
    "trials = hyperopt.Trials()\n",
    "\n",
    "best = hyperopt.fmin(\n",
    "    hyperopt_objective,\n",
    "    space=params_space,\n",
    "    algo=hyperopt.tpe.suggest,\n",
    "    max_evals=50,\n",
    "    trials=trials\n",
    ")\n",
    "\n",
    "print(best)\n",
    "# {'colsample_bytree': 0.88, 'gamma': 0.0, 'learning_rate': 0.12081443556621764, 'max_depth': 11, 'min_child_weight': 6.0, 'n_estimators': 17, 'subsample': 0.91}"
   ]
  },
  {
   "cell_type": "code",
   "execution_count": 53,
   "metadata": {},
   "outputs": [
    {
     "name": "stdout",
     "output_type": "stream",
     "text": [
      "prediction with the best model: accuracy: 92.01, weighted F1: 92.01\n"
     ]
    }
   ],
   "source": [
    "model = xgb.XGBClassifier(n_estimators = best['n_estimators'],\n",
    "                      max_depth = best['max_depth'],\n",
    "                      learning_rate = best['learning_rate'],\n",
    "                      gamma = best['gamma'],\n",
    "                      min_child_weight = best['min_child_weight'],\n",
    "                      subsample = best['subsample'],\n",
    "                      colsample_bytree = best['colsample_bytree']\n",
    "                      )\n",
    "model.fit(x_train, y_train)\n",
    "preds = model.predict(x_test)\n",
    "f1 = round(f1_score(y_test, preds, average='weighted') * 100, 2)\n",
    "acc = round(accuracy_score(y_test, preds) * 100, 2)\n",
    "\n",
    "print(f\"prediction with the best model: accuracy: {acc}, weighted F1: {f1}\")"
   ]
  },
  {
   "cell_type": "markdown",
   "metadata": {},
   "source": [
    "### Predict"
   ]
  },
  {
   "cell_type": "code",
   "execution_count": 34,
   "metadata": {},
   "outputs": [],
   "source": [
    "X_test = pd.read_csv('Xtest.csv')"
   ]
  },
  {
   "cell_type": "code",
   "execution_count": 35,
   "metadata": {},
   "outputs": [],
   "source": [
    "X_testset = X_test.drop(['Id', 'Name', 'BalanceGross'], axis=1)\n",
    "for col in X_testset:\n",
    "    dt = X_testset[col].dtype \n",
    "    if dt == int or dt == float:\n",
    "        X_testset[col].fillna(0, inplace=True)\n",
    "    else:\n",
    "        X_testset[col].fillna(\"\", inplace=True)"
   ]
  },
  {
   "cell_type": "code",
   "execution_count": 36,
   "metadata": {},
   "outputs": [],
   "source": [
    "#Reformatting numeric columns and datetime columns\n",
    "X_testset = data_transformation(X_testset)\n",
    "X_testset = cat_feature_encoding(X_testset)\n",
    "# X_testset['DisbursementGross'] = X_testset['DisbursementGross'].apply(lambda x: float(x.replace('$', '').replace(',', '').strip()))\n",
    "# X_testset['GrAppv'] = X_testset['GrAppv'].apply(lambda x: float(x.replace('$', '').replace(',', '').strip()))\n",
    "# X_testset['SBA_Appv'] = X_testset['SBA_Appv'].apply(lambda x: float(x.replace('$', '').replace(',', '').strip()))\n",
    "# X_testset['Ratio'] = X_testset['DisbursementGross'] / X_testset['GrAppv']"
   ]
  },
  {
   "cell_type": "code",
   "execution_count": 37,
   "metadata": {},
   "outputs": [],
   "source": [
    "import pandas as pd\n",
    "submisstion = pd.DataFrame()\n",
    "submisstion['Id'] = X_test['Id']\n",
    "submisstion['ChargeOff'] = model.predict(X_testset)"
   ]
  },
  {
   "cell_type": "code",
   "execution_count": 38,
   "metadata": {},
   "outputs": [],
   "source": [
    "submisstion.to_csv('submission.csv', index=False)"
   ]
  },
  {
   "cell_type": "code",
   "execution_count": null,
   "metadata": {},
   "outputs": [],
   "source": []
  }
 ],
 "metadata": {
  "kernelspec": {
   "display_name": "Python 3",
   "language": "python",
   "name": "python3"
  },
  "language_info": {
   "codemirror_mode": {
    "name": "ipython",
    "version": 3
   },
   "file_extension": ".py",
   "mimetype": "text/x-python",
   "name": "python",
   "nbconvert_exporter": "python",
   "pygments_lexer": "ipython3",
   "version": "3.6.5"
  }
 },
 "nbformat": 4,
 "nbformat_minor": 4
}
